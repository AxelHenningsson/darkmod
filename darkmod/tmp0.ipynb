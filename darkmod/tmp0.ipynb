{
 "cells": [
  {
   "cell_type": "code",
   "execution_count": null,
   "metadata": {},
   "outputs": [],
   "source": [
    "import sympy"
   ]
  },
  {
   "cell_type": "code",
   "execution_count": null,
   "metadata": {},
   "outputs": [],
   "source": [
    "x = sympy.Symbol(\"x\")\n",
    "y = sympy.Symbol(\"y\")\n",
    "b = sympy.Symbol(\"b\")\n",
    "nu = sympy.Symbol(\"nu\")"
   ]
  },
  {
   "cell_type": "code",
   "execution_count": null,
   "metadata": {},
   "outputs": [],
   "source": [
    " / (2 * sympy.pi)) * (\n",
    "    1 / (sympy.tan((y / x))) + (x * y / (2 * (1 - nu) * (x * x + y * y)))\n",
    ")\n",
    "du_dx = sympy.Derivative(u_x, x).simplify()"
   ]
  },
  {
   "cell_type": "code",
   "execution_count": null,
   "metadata": {},
   "outputs": [
    {
     "data": {
      "text/latex": [
       "$\\displaystyle \\frac{b x^{2}}{\\pi y \\left(x^{2} + y^{2}\\right)} + \\frac{b x^{2} \\left(y^{2} - 2 \\left(\\nu - 1\\right) \\left(x^{2} + y^{2}\\right)\\right)}{2 \\pi y \\left(\\nu - 1\\right) \\left(x^{2} + y^{2}\\right)^{2}} - \\frac{b \\left(y^{2} - 2 \\left(\\nu - 1\\right) \\left(x^{2} + y^{2}\\right)\\right)}{4 \\pi y \\left(\\nu - 1\\right) \\left(x^{2} + y^{2}\\right)}$"
      ],
      "text/plain": [
       "b*x**2/(pi*y*(x**2 + y**2)) + b*x**2*(y**2 - 2*(nu - 1)*(x**2 + y**2))/(2*pi*y*(nu - 1)*(x**2 + y**2)**2) - b*(y**2 - 2*(nu - 1)*(x**2 + y**2))/(4*pi*y*(nu - 1)*(x**2 + y**2))"
      ]
     },
     "execution_count": 31,
     "metadata": {},
     "output_type": "execute_result"
    }
   ],
   "source": [
    "u_x = (b / (2 * sympy.pi)) * (1 / (y / x) + (x * y / (2 * (1 - nu) * (x * x + y * y))))\n",
    "sympy.Derivative(u_x, x).simplify()"
   ]
  },
  {
   "cell_type": "code",
   "execution_count": null,
   "metadata": {},
   "outputs": [],
   "source": []
  }
 ],
 "metadata": {
  "kernelspec": {
   "display_name": "xrd",
   "language": "python",
   "name": "xrd"
  },
  "language_info": {
   "codemirror_mode": {
    "name": "ipython",
    "version": 3
   },
   "file_extension": ".py",
   "mimetype": "text/x-python",
   "name": "python",
   "nbconvert_exporter": "python",
   "pygments_lexer": "ipython3",
   "version": "3.10.13"
  }
 },
 "nbformat": 4,
 "nbformat_minor": 2
}
