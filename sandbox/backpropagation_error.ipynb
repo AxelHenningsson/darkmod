{
 "cells": [
  {
   "cell_type": "code",
   "execution_count": 6,
   "metadata": {},
   "outputs": [],
   "source": [
    "import matplotlib.pyplot as plt\n",
    "import numpy as np\n",
    "from scipy.spatial.transform import Rotation\n",
    "\n",
    "from darkmod import laue"
   ]
  },
  {
   "cell_type": "code",
   "execution_count": 32,
   "metadata": {},
   "outputs": [],
   "source": [
    "# Instantiate a cubic AL crystal (space group 225)\n",
    "unit_cell = [4.0493, 4.0493, 4.0493, 90.0, 90.0, 90.0]\n",
    "U = Rotation.random().as_matrix()\n",
    "B = laue.get_b_matrix(unit_cell)\n",
    "UB = U @ B\n",
    "hkl = np.array([1, -1, 1])\n",
    "Q_0 = UB @ hkl  # 1/ang\n"
   ]
  },
  {
   "cell_type": "markdown",
   "metadata": {},
   "source": []
  },
  {
   "cell_type": "code",
   "execution_count": 59,
   "metadata": {},
   "outputs": [],
   "source": [
    "relerr = []\n",
    "for i in range(1000):\n",
    "    mag = 1e-4  # rad\n",
    "    rvec = np.random.normal(size=(3,), scale=mag)\n",
    "    rvec = rvec / np.linalg.norm(rvec)\n",
    "    dU = Rotation.from_rotvec(mag * rvec).as_matrix()\n",
    "    Q = dU @ Q_0  # 1/ang\n",
    "    beam_width = 500  # nm\n",
    "    dx = beam_width / 2\n",
    "    # Q_0 + c * dx**2 = Q => c * dx**2 = Q - Q_0 => c = (Q - Q_0) / dx**2\n",
    "    c = (Q - Q_0) / dx**2\n",
    "    e = c * beam_width**2\n",
    "    e = 4 * (Q - Q_0)\n",
    "    relerr.append(np.abs(e / Q_0))\n",
    "relerr = np.array(relerr)"
   ]
  },
  {
   "cell_type": "code",
   "execution_count": 60,
   "metadata": {},
   "outputs": [
    {
     "data": {
      "image/png": "[encoded data removed]",
      "text/plain": [
       "<Figure size 800x600 with 1 Axes>"
      ]
     },
     "metadata": {},
     "output_type": "display_data"
    },
    {
     "data": {
      "image/png": "[encoded data removed]",
      "text/plain": [
       "<Figure size 800x600 with 1 Axes>"
      ]
     },
     "metadata": {},
     "output_type": "display_data"
    },
    {
     "data": {
      "image/png": "[encoded data removed]",
      "text/plain": [
       "<Figure size 800x600 with 1 Axes>"
      ]
     },
     "metadata": {},
     "output_type": "display_data"
    }
   ],
   "source": [
    "for i in range(3):\n",
    "    plt.figure(figsize=(8, 6))\n",
    "    plt.hist(relerr[:, i])\n",
    "    plt.show()"
   ]
  },
  {
   "cell_type": "code",
   "execution_count": 77,
   "metadata": {},
   "outputs": [
    {
     "data": {
      "text/latex": [
       "$\\displaystyle \\begin{cases} \\frac{\\sqrt{2} \\sqrt{\\pi} \\sigma^{3}}{n_{z}^{3}} & \\text{for}\\: \\left|{\\arg{\\left(n_{z} \\right)}}\\right| < \\frac{\\pi}{4} \\\\\\int\\limits_{-\\infty}^{\\infty} s^{2} e^{- \\frac{n_{z}^{2} s^{2}}{2 \\sigma^{2}}}\\, ds & \\text{otherwise} \\end{cases}$"
      ],
      "text/plain": [
       "Piecewise((sqrt(2)*sqrt(pi)*sigma**3/n_z**3, Abs(arg(n_z)) < pi/4), (Integral(s**2*exp(-n_z**2*s**2/(2*sigma**2)), (s, -oo, oo)), True))"
      ]
     },
     "metadata": {},
     "output_type": "display_data"
    }
   ],
   "source": [
    "import sympy as sp\n",
    "\n",
    "# Define symbols\n",
    "s = sp.symbols(\"s\")\n",
    "sigma = sp.symbols(\"sigma\", real=True, positive=True)\n",
    "d = sp.symbols(\"d\")\n",
    "n_hat = sp.symbols(\"n_hat\")\n",
    "\n",
    "n_z = sp.symbols(\"n_z\", real=True)  # d*n_hat\n",
    "\n",
    "# Define the expression\n",
    "numerator = s * s * n_z * n_z\n",
    "exponent = -numerator / (2 * sigma**2)\n",
    "integrand = s * s * sp.exp(exponent)\n",
    "\n",
    "\n",
    "# Perform the integral\n",
    "result = sp.integrate(integrand, (s, -sp.oo, sp.oo)).simplify()\n",
    "\n",
    "display(result)"
   ]
  },
  {
   "cell_type": "code",
   "execution_count": 92,
   "metadata": {},
   "outputs": [
    {
     "data": {
      "text/latex": [
       "$\\displaystyle \\begin{cases} \\frac{\\sqrt{2} \\sqrt{\\pi} \\sigma^{3}}{\\sin^{2}{\\left(2 \\theta \\right)} \\cos^{2}{\\left(\\eta \\right)} \\left|{\\sin{\\left(2 \\theta \\right)} \\cos{\\left(\\eta \\right)}}\\right|} & \\text{for}\\: \\left|{\\arg{\\left(\\sin^{2}{\\left(2 \\theta \\right)} \\right)} + \\arg{\\left(\\cos^{2}{\\left(\\eta \\right)} \\right)}}\\right| < \\frac{\\pi}{2} \\\\\\int\\limits_{-\\infty}^{\\infty} s^{2} e^{- \\frac{s^{2} \\sin^{2}{\\left(2 \\theta \\right)} \\cos^{2}{\\left(\\eta \\right)}}{2 \\sigma^{2}}}\\, ds & \\text{otherwise} \\end{cases}$"
      ],
      "text/plain": [
       "Piecewise((sqrt(2)*sqrt(pi)*sigma**3/(sin(2*theta)**2*cos(eta)**2*Abs(sin(2*theta)*cos(eta))), Abs(arg(sin(2*theta)**2) + arg(cos(eta)**2)) < pi/2), (Integral(s**2*exp(-s**2*sin(2*theta)**2*cos(eta)**2/(2*sigma**2)), (s, -oo, oo)), True))"
      ]
     },
     "execution_count": 92,
     "metadata": {},
     "output_type": "execute_result"
    }
   ],
   "source": [
    "theta = sp.symbols(\"theta\", real=True)\n",
    "s, c = sp.sin(-2 * theta), sp.cos(-2 * theta)\n",
    "Ry = sp.Matrix([[c, 0, s], [0, 1, 0], [-s, 0, c]])\n",
    "eta = sp.symbols(\"eta\", real=True)\n",
    "s, c = sp.sin(eta), sp.cos(eta)\n",
    "Rx = sp.Matrix([[1, 0, 0], [0, c, -s], [0, s, c]])\n",
    "\n",
    "nhat = Rx @ Ry @ sp.Matrix([1, 0, 0])\n",
    "n_z = nhat[2]\n",
    "\n",
    "# Define symbols\n",
    "s = sp.symbols(\"s\")\n",
    "sigma = sp.symbols(\"sigma\", real=True, positive=True)\n",
    "\n",
    "# Define the expression\n",
    "numerator = s * s * n_z * n_z\n",
    "exponent = -numerator / (2 * sigma**2)\n",
    "integrand = s * s * sp.exp(exponent)\n",
    "\n",
    "\n",
    "# Perform the integral\n",
    "result = sp.integrate(integrand, (s, -sp.oo, sp.oo)).simplify()\n",
    "result\n"
   ]
  },
  {
   "cell_type": "code",
   "execution_count": 93,
   "metadata": {},
   "outputs": [
    {
     "data": {
      "text/latex": [
       "$\\displaystyle \\begin{cases} \\frac{\\sqrt{2} \\sqrt{\\pi} \\sigma \\left|{\\sin{\\left(2 \\theta \\right)} \\cos{\\left(\\eta \\right)}}\\right|}{\\sin^{2}{\\left(2 \\theta \\right)} \\cos^{2}{\\left(\\eta \\right)}} & \\text{for}\\: \\left|{\\arg{\\left(\\sin^{2}{\\left(2 \\theta \\right)} \\right)} + \\arg{\\left(\\cos^{2}{\\left(\\eta \\right)} \\right)}}\\right| \\leq \\frac{\\pi}{2} \\\\\\int\\limits_{-\\infty}^{\\infty} e^{- \\frac{s^{2} \\sin^{2}{\\left(2 \\theta \\right)} \\cos^{2}{\\left(\\eta \\right)}}{2 \\sigma^{2}}}\\, ds & \\text{otherwise} \\end{cases}$"
      ],
      "text/plain": [
       "Piecewise((sqrt(2)*sqrt(pi)*sigma*Abs(sin(2*theta)*cos(eta))/(sin(2*theta)**2*cos(eta)**2), Abs(arg(sin(2*theta)**2) + arg(cos(eta)**2)) <= pi/2), (Integral(exp(-s**2*sin(2*theta)**2*cos(eta)**2/(2*sigma**2)), (s, -oo, oo)), True))"
      ]
     },
     "execution_count": 93,
     "metadata": {},
     "output_type": "execute_result"
    }
   ],
   "source": [
    "# Define the expression\n",
    "numerator = s * s * n_z * n_z\n",
    "exponent = -numerator / (2 * sigma**2)\n",
    "integrand = sp.exp(exponent)\n",
    "\n",
    "\n",
    "# Perform the integral\n",
    "result = sp.integrate(integrand, (s, -sp.oo, sp.oo)).simplify()\n",
    "result\n"
   ]
  }
 ],
 "metadata": {
  "kernelspec": {
   "display_name": "xrd",
   "language": "python",
   "name": "xrd"
  },
  "language_info": {
   "codemirror_mode": {
    "name": "ipython",
    "version": 3
   },
   "file_extension": ".py",
   "mimetype": "text/x-python",
   "name": "python",
   "nbconvert_exporter": "python",
   "pygments_lexer": "ipython3",
   "version": "3.10.13"
  }
 },
 "nbformat": 4,
 "nbformat_minor": 2
}
