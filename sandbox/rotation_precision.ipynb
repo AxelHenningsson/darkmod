{
 "cells": [
  {
   "cell_type": "code",
   "execution_count": 2,
   "metadata": {},
   "outputs": [],
   "source": [
    "import numpy as np\n",
    "import matplotlib.pyplot as plt\n",
    "from scipy.spatial.transform import Rotation\n"
   ]
  },
  {
   "cell_type": "code",
   "execution_count": 29,
   "metadata": {},
   "outputs": [],
   "source": [
    "dang = 1e-5\n",
    "N = 2000\n",
    "rotvec = np.random.normal(0, scale=dang, size=(N,3))\n",
    "rotmats = Rotation.from_rotvec(rotvec)\n",
    "\n",
    "rot1 = np.eye(3)\n",
    "rot2 = Rotation.identity()\n",
    "for R in rotmats:\n",
    "    #print(R.magnitude() / 1e-3, 'milliradians')\n",
    "    rot1 = R.as_matrix() @ rot1\n",
    "    rot2 = R * rot2"
   ]
  },
  {
   "cell_type": "code",
   "execution_count": 30,
   "metadata": {},
   "outputs": [
    {
     "data": {
      "text/plain": [
       "2.5820063725716023e-15"
      ]
     },
     "execution_count": 30,
     "metadata": {},
     "output_type": "execute_result"
    }
   ],
   "source": [
    "Rotation.from_matrix(rot1.T @ rot2.as_matrix()).magnitude() / 1e-3"
   ]
  },
  {
   "cell_type": "code",
   "execution_count": 31,
   "metadata": {},
   "outputs": [
    {
     "data": {
      "text/plain": [
       "4.790774705517383e-15"
      ]
     },
     "execution_count": 31,
     "metadata": {},
     "output_type": "execute_result"
    }
   ],
   "source": [
    "(rot2.inv() * Rotation.from_matrix(rot1)).magnitude() / 1e-3"
   ]
  },
  {
   "cell_type": "code",
   "execution_count": null,
   "metadata": {},
   "outputs": [],
   "source": []
  }
 ],
 "metadata": {
  "kernelspec": {
   "display_name": "xrd",
   "language": "python",
   "name": "xrd"
  },
  "language_info": {
   "codemirror_mode": {
    "name": "ipython",
    "version": 3
   },
   "file_extension": ".py",
   "mimetype": "text/x-python",
   "name": "python",
   "nbconvert_exporter": "python",
   "pygments_lexer": "ipython3",
   "version": "3.10.13"
  }
 },
 "nbformat": 4,
 "nbformat_minor": 2
}
