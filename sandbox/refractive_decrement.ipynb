{
 "cells": [
  {
   "cell_type": "code",
   "execution_count": 42,
   "metadata": {},
   "outputs": [],
   "source": [
    "import numpy as np\n",
    "\n",
    "import darkmod.crl\n",
    "import darkmod.laue"
   ]
  },
  {
   "cell_type": "code",
   "execution_count": 66,
   "metadata": {},
   "outputs": [],
   "source": [
    "def refractive_decrement(Z, rho, A, energy):\n",
    "    \"\"\"calculate refractive decrement of a material\n",
    "\n",
    "    Args:\n",
    "        Z (:obj:`int`): atomic number\n",
    "        rho (:obj:`float`): density, unit: g/cm^3\n",
    "        A (:obj:`float`): atomic mass number, unit: g/mol\n",
    "        energy (:obj:`float`): energy, unit: keV\n",
    "\n",
    "    Returns:\n",
    "        :obj:`float`: refractive decrement\n",
    "\n",
    "    \"\"\"\n",
    "    wavelength = darkmod.laue.keV_to_angstrom(energy)  # unit: angstrom\n",
    "    r0 = 2.8179403227 * 1e-15  # classical electron radius, unit: m\n",
    "    Na = 6.02214076 * 10 ** (23)  # Avogadro's number, unit: mol^-1\n",
    "    Ne = rho * Na * Z / A  # electron density, unit: cm^-3\n",
    "    si_unit_scale = 1e-14\n",
    "    return si_unit_scale * Ne * (wavelength**2) * r0 / (2 * np.pi)  # unit: 1\n"
   ]
  },
  {
   "cell_type": "code",
   "execution_count": 77,
   "metadata": {},
   "outputs": [
    {
     "data": {
      "text/plain": [
       "1.8639107851692286e-06"
      ]
     },
     "execution_count": 77,
     "metadata": {},
     "output_type": "execute_result"
    }
   ],
   "source": [
    "energy = 19.1  # keV\n",
    "Z = 4  # atomic number, berillium\n",
    "rho = 1.845  # density, berillium, g/cm^3\n",
    "A = 9.0121831  # atomic mass number, berillium, g/mol\n",
    "delta = refractive_decrement(Z, rho, A, energy)\n",
    "delta * 2"
   ]
  },
  {
   "cell_type": "code",
   "execution_count": 78,
   "metadata": {},
   "outputs": [],
   "source": [
    "number_of_lenses = 69\n",
    "lens_space = 1600  # microns\n",
    "lens_radius = 50  # microns\n",
    "magnification = 15.1"
   ]
  },
  {
   "cell_type": "code",
   "execution_count": 79,
   "metadata": {},
   "outputs": [
    {
     "name": "stdout",
     "output_type": "stream",
     "text": [
      "------------------------------------------------------------\n",
      "CRL information in units of [m]\n",
      "------------------------------------------------------------\n",
      "Sample to crl distance (d1)     :  0.3782594142025971\n",
      "CRL to detector distance (d2)   :  6.508990118235542\n",
      "CRL focal length (f_N)          :  0.3512564714640069\n",
      "single lens focal length (f)    :  26.825318249049342\n",
      "Source to detector distance (L) :  6.99764953243814\n",
      "Lens spacing (T)                :  0.0016\n",
      "Number of lenses (N)            :  69\n",
      "Lens radius (R)                 :  5e-05\n",
      "Refractive Decrement (delta)    :  9.319553925846143e-07\n",
      "------------------------------------------------------------\n"
     ]
    }
   ],
   "source": [
    "crl = darkmod.crl.CompundRefractiveLens(\n",
    "    number_of_lenses, lens_space, lens_radius, delta, magnification\n",
    ")\n",
    "crl.info"
   ]
  },
  {
   "cell_type": "code",
   "execution_count": 54,
   "metadata": {},
   "outputs": [
    {
     "data": {
      "text/plain": [
       "21250899.570927434"
      ]
     },
     "execution_count": 54,
     "metadata": {},
     "output_type": "execute_result"
    }
   ],
   "source": [
    "crl.f"
   ]
  }
 ],
 "metadata": {
  "kernelspec": {
   "display_name": "xrd",
   "language": "python",
   "name": "xrd"
  },
  "language_info": {
   "codemirror_mode": {
    "name": "ipython",
    "version": 3
   },
   "file_extension": ".py",
   "mimetype": "text/x-python",
   "name": "python",
   "nbconvert_exporter": "python",
   "pygments_lexer": "ipython3",
   "version": "3.10.13"
  }
 },
 "nbformat": 4,
 "nbformat_minor": 2
}
