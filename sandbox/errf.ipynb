{
 "cells": [
  {
   "cell_type": "code",
   "execution_count": 1,
   "metadata": {},
   "outputs": [],
   "source": [
    "import numpy as np\n",
    "import matplotlib.pyplot as plt \n",
    "import sympy as sp"
   ]
  },
  {
   "cell_type": "code",
   "execution_count": 23,
   "metadata": {},
   "outputs": [
    {
     "data": {
      "text/latex": [
       "$\\displaystyle \\left[\\begin{matrix}\\cos{\\left(2 \\theta \\right)} - 1 & 0 & 0 & 0 & - \\sin{\\left(2 \\theta \\right)}\\\\- \\sin{\\left(\\eta \\right)} \\sin{\\left(2 \\theta \\right)} & -1 & 0 & \\cos{\\left(\\eta \\right)} & - \\sin{\\left(\\eta \\right)} \\cos{\\left(2 \\theta \\right)}\\\\\\sin{\\left(2 \\theta \\right)} \\cos{\\left(\\eta \\right)} & 0 & -1 & \\sin{\\left(\\eta \\right)} & \\cos{\\left(\\eta \\right)} \\cos{\\left(2 \\theta \\right)}\\end{matrix}\\right]$"
      ],
      "text/plain": [
       "Matrix([\n",
       "[      cos(2*theta) - 1,  0,  0,        0,          -sin(2*theta)],\n",
       "[-sin(eta)*sin(2*theta), -1,  0, cos(eta), -sin(eta)*cos(2*theta)],\n",
       "[ sin(2*theta)*cos(eta),  0, -1, sin(eta),  cos(eta)*cos(2*theta)]])"
      ]
     },
     "metadata": {},
     "output_type": "display_data"
    },
    {
     "data": {
      "text/latex": [
       "$\\displaystyle \\left[\\begin{matrix}\\cos{\\left(2 \\theta \\right)} - 1 & 0 & 0 & 0 & - \\sin{\\left(2 \\theta \\right)}\\\\- \\frac{\\cos{\\left(2 \\eta - 2 \\theta \\right)}}{2} + \\frac{\\cos{\\left(2 \\eta + 2 \\theta \\right)}}{2} & - \\cos{\\left(\\eta \\right)} & \\sin{\\left(\\eta \\right)} & \\cos{\\left(2 \\eta \\right)} & - \\frac{\\sin{\\left(2 \\eta - 2 \\theta \\right)}}{2} - \\frac{\\sin{\\left(2 \\eta + 2 \\theta \\right)}}{2}\\\\\\sin{\\left(2 \\theta \\right)} \\cos{\\left(2 \\eta \\right)} & - \\sin{\\left(\\eta \\right)} & - \\cos{\\left(\\eta \\right)} & \\sin{\\left(2 \\eta \\right)} & \\cos{\\left(2 \\eta \\right)} \\cos{\\left(2 \\theta \\right)}\\end{matrix}\\right]$"
      ],
      "text/plain": [
       "Matrix([\n",
       "[                                cos(2*theta) - 1,         0,         0,          0,                                    -sin(2*theta)],\n",
       "[-cos(2*eta - 2*theta)/2 + cos(2*eta + 2*theta)/2, -cos(eta),  sin(eta), cos(2*eta), -sin(2*eta - 2*theta)/2 - sin(2*eta + 2*theta)/2],\n",
       "[                         sin(2*theta)*cos(2*eta), -sin(eta), -cos(eta), sin(2*eta),                          cos(2*eta)*cos(2*theta)]])"
      ]
     },
     "metadata": {},
     "output_type": "display_data"
    }
   ],
   "source": [
    "theta = sp.Symbol('theta')\n",
    "eta = sp.Symbol('eta')\n",
    "\n",
    "R = sp.Matrix([[1, 0, 0],\n",
    "               [0, sp.cos(-eta), -sp.sin(-eta)],\n",
    "               [0, sp.sin(-eta),  sp.cos(-eta)],\n",
    "])\n",
    "\n",
    "M = sp.Matrix([\n",
    "    [ sp.cos(2 * theta)-1           ,   0 ,    0 ,      0       ,  -sp.sin(2 * theta)             ],\n",
    "    [-sp.sin(eta)*sp.sin(2 * theta) ,  -1 ,    0 ,  sp.cos(eta) ,  -sp.sin(eta)*sp.cos(2 * theta) ],\n",
    "    [ sp.cos(eta)*sp.sin(2 * theta) ,   0 ,   -1 ,  sp.sin(eta) ,   sp.cos(eta)*sp.cos(2 * theta) ]\n",
    "])\n",
    "\n",
    "display(sp.simplify(M))\n",
    "display(sp.simplify(R*M))\n",
    "\n"
   ]
  },
  {
   "cell_type": "code",
   "execution_count": 24,
   "metadata": {},
   "outputs": [
    {
     "data": {
      "text/latex": [
       "$\\displaystyle \\left[\\begin{matrix}0 & \\cos{\\left(\\eta \\right)} & \\sin{\\left(\\eta \\right)} & 1 & 0\\end{matrix}\\right]$"
      ],
      "text/plain": [
       "Matrix([[0, cos(eta), sin(eta), 1, 0]])"
      ]
     },
     "metadata": {},
     "output_type": "display_data"
    },
    {
     "data": {
      "text/latex": [
       "$\\displaystyle \\left[\\begin{matrix}- \\frac{1}{\\tan{\\left(\\theta \\right)}} & \\sin{\\left(\\eta \\right)} & - \\cos{\\left(\\eta \\right)} & 0 & 1\\end{matrix}\\right]$"
      ],
      "text/plain": [
       "Matrix([[-1/tan(theta), sin(eta), -cos(eta), 0, 1]])"
      ]
     },
     "metadata": {},
     "output_type": "display_data"
    }
   ],
   "source": [
    "u1,u2 = sp.Symbol('u_1'), sp.Symbol('u_2')\n",
    "x1,x2,x3,x4,x5 = sp.Symbol('x_1'), sp.Symbol('x_2'), sp.Symbol('x_3'), sp.Symbol('x_4'), sp.Symbol('x_5')\n",
    "x_p = sp.Matrix([\n",
    "    [ x1 ],\n",
    "    [ x2 ],\n",
    "    [ x3 ],\n",
    "    [ x3 ],\n",
    "    [ x5 ],\n",
    "])\n",
    "n1 = sp.simplify((R*M).nullspace()[0])\n",
    "n2 = sp.simplify((R*M).nullspace()[1])\n",
    "display(n1.T)\n",
    "display(n2.T)\n"
   ]
  },
  {
   "cell_type": "code",
   "execution_count": 4,
   "metadata": {},
   "outputs": [
    {
     "data": {
      "text/latex": [
       "$\\displaystyle \\left[\\begin{matrix}- \\frac{u_{2}}{\\tan{\\left(\\theta \\right)}}\\\\u_{1} \\cos{\\left(\\eta \\right)} + u_{2} \\sin{\\left(\\eta \\right)}\\\\u_{1} \\sin{\\left(\\eta \\right)} - u_{2} \\cos{\\left(\\eta \\right)}\\\\u_{1}\\\\u_{2}\\end{matrix}\\right]$"
      ],
      "text/plain": [
       "Matrix([\n",
       "[            -u_2/tan(theta)],\n",
       "[u_1*cos(eta) + u_2*sin(eta)],\n",
       "[u_1*sin(eta) - u_2*cos(eta)],\n",
       "[                        u_1],\n",
       "[                        u_2]])"
      ]
     },
     "metadata": {},
     "output_type": "display_data"
    }
   ],
   "source": [
    "display( (n1*u1 + n2*u2) )\n",
    "\n",
    "# u2 < -tan(th) * ub_1"
   ]
  },
  {
   "cell_type": "code",
   "execution_count": 191,
   "metadata": {},
   "outputs": [
    {
     "name": "stdout",
     "output_type": "stream",
     "text": [
      "0.0019328189955558628\n",
      "       message: Optimization terminated successfully. (HiGHS Status 7: Optimal)\n",
      "       success: True\n",
      "        status: 0\n",
      "           fun: 0.0\n",
      "             x: [ 0.000e+00  0.000e+00]\n",
      "           nit: 0\n",
      "         lower:  residual: [ 0.000e+00  0.000e+00]\n",
      "                marginals: [ 0.000e+00  0.000e+00]\n",
      "         upper:  residual: [       inf        inf]\n",
      "                marginals: [ 0.000e+00  0.000e+00]\n",
      "         eqlin:  residual: []\n",
      "                marginals: []\n",
      "       ineqlin:  residual: [ 2.211e-02  2.588e-01  7.967e-02  3.684e-01\n",
      "                             7.387e-01  3.428e-02  3.600e-01  6.258e-01\n",
      "                             3.251e-01  7.279e-01]\n",
      "                marginals: [-0.000e+00 -0.000e+00 -0.000e+00 -0.000e+00\n",
      "                            -0.000e+00 -0.000e+00 -0.000e+00 -0.000e+00\n",
      "                            -0.000e+00 -0.000e+00]\n"
     ]
    },
    {
     "data": {
      "image/png": "[encoded data removed]",
      "text/plain": [
       "<Figure size 640x480 with 1 Axes>"
      ]
     },
     "metadata": {},
     "output_type": "display_data"
    }
   ],
   "source": [
    "theta = np.radians(10)\n",
    "eta = np.radians(45)\n",
    "dQ = np.array([1, 1.1423, -0.82346])\n",
    "k = 100\n",
    "M = k * np.array([\n",
    "    [ np.cos(2 * theta)-1           ,   0 ,    0 ,      0       ,  -np.sin(2 * theta)             ],\n",
    "    [-np.sin(eta)*np.sin(2 * theta) ,  -1 ,    0 ,  np.cos(eta) ,  -np.sin(eta)*np.cos(2 * theta) ],\n",
    "    [ np.cos(eta)*np.sin(2 * theta) ,   0 ,   -1 ,  np.sin(eta) ,   np.cos(eta)*np.cos(2 * theta) ]\n",
    "])\n",
    "\n",
    "from scipy.spatial import HalfspaceIntersection\n",
    "from scipy.spatial import ConvexHull\n",
    "from matplotlib.patches import Polygon\n",
    "from scipy.optimize import linprog\n",
    "\n",
    "\n",
    "import time\n",
    "\n",
    "\n",
    "\n",
    "_,_,vh = np.linalg.svd(M)\n",
    "null = vh.T[:,-2:]\n",
    "lower_bound = -np.random.rand(5)\n",
    "upper_bound = np.random.rand(5)\n",
    "\n",
    "t1 = time.perf_counter()\n",
    "\n",
    "halfspaces = np.vstack([np.c_[null, -upper_bound], np.c_[-null, lower_bound]])\n",
    "res = linprog(c=np.zeros(null.shape[1]), A_ub=halfspaces[:,0:-1], b_ub=-halfspaces[:,-1])\n",
    "feasible_point = res.x\n",
    "hs = HalfspaceIntersection(halfspaces, feasible_point)\n",
    "vertices = hs.intersections\n",
    "t2 = time.perf_counter()\n",
    "\n",
    "print(t2-t1)\n",
    "print(res)\n",
    "\n",
    "hull = ConvexHull(vertices)\n",
    "fig, ax = plt.subplots()\n",
    "polygon = Polygon(vertices[hull.vertices], color='lightblue', alpha=0.5)\n",
    "ax.add_patch(polygon)\n",
    "ax.plot(vertices[:, 0], vertices[:, 1], 'o', color='black')\n",
    "ax.set_xlim(vertices[:, 0].min() - 1, vertices[:, 0].max() + 1)\n",
    "ax.set_ylim(vertices[:, 1].min() - 1, vertices[:, 1].max() + 1)\n",
    "plt.show()"
   ]
  },
  {
   "cell_type": "code",
   "execution_count": 188,
   "metadata": {},
   "outputs": [
    {
     "data": {
      "text/plain": [
       "array([0., 0.])"
      ]
     },
     "execution_count": 188,
     "metadata": {},
     "output_type": "execute_result"
    }
   ],
   "source": []
  },
  {
   "cell_type": "code",
   "execution_count": 184,
   "metadata": {},
   "outputs": [
    {
     "name": "stdout",
     "output_type": "stream",
     "text": [
      "\u001b[0;31mSignature:\u001b[0m\n",
      "\u001b[0mlinprog\u001b[0m\u001b[0;34m(\u001b[0m\u001b[0;34m\u001b[0m\n",
      "\u001b[0;34m\u001b[0m    \u001b[0mc\u001b[0m\u001b[0;34m,\u001b[0m\u001b[0;34m\u001b[0m\n",
      "\u001b[0;34m\u001b[0m    \u001b[0mA_ub\u001b[0m\u001b[0;34m=\u001b[0m\u001b[0;32mNone\u001b[0m\u001b[0;34m,\u001b[0m\u001b[0;34m\u001b[0m\n",
      "\u001b[0;34m\u001b[0m    \u001b[0mb_ub\u001b[0m\u001b[0;34m=\u001b[0m\u001b[0;32mNone\u001b[0m\u001b[0;34m,\u001b[0m\u001b[0;34m\u001b[0m\n",
      "\u001b[0;34m\u001b[0m    \u001b[0mA_eq\u001b[0m\u001b[0;34m=\u001b[0m\u001b[0;32mNone\u001b[0m\u001b[0;34m,\u001b[0m\u001b[0;34m\u001b[0m\n",
      "\u001b[0;34m\u001b[0m    \u001b[0mb_eq\u001b[0m\u001b[0;34m=\u001b[0m\u001b[0;32mNone\u001b[0m\u001b[0;34m,\u001b[0m\u001b[0;34m\u001b[0m\n",
      "\u001b[0;34m\u001b[0m    \u001b[0mbounds\u001b[0m\u001b[0;34m=\u001b[0m\u001b[0;34m(\u001b[0m\u001b[0;36m0\u001b[0m\u001b[0;34m,\u001b[0m \u001b[0;32mNone\u001b[0m\u001b[0;34m)\u001b[0m\u001b[0;34m,\u001b[0m\u001b[0;34m\u001b[0m\n",
      "\u001b[0;34m\u001b[0m    \u001b[0mmethod\u001b[0m\u001b[0;34m=\u001b[0m\u001b[0;34m'highs'\u001b[0m\u001b[0;34m,\u001b[0m\u001b[0;34m\u001b[0m\n",
      "\u001b[0;34m\u001b[0m    \u001b[0mcallback\u001b[0m\u001b[0;34m=\u001b[0m\u001b[0;32mNone\u001b[0m\u001b[0;34m,\u001b[0m\u001b[0;34m\u001b[0m\n",
      "\u001b[0;34m\u001b[0m    \u001b[0moptions\u001b[0m\u001b[0;34m=\u001b[0m\u001b[0;32mNone\u001b[0m\u001b[0;34m,\u001b[0m\u001b[0;34m\u001b[0m\n",
      "\u001b[0;34m\u001b[0m    \u001b[0mx0\u001b[0m\u001b[0;34m=\u001b[0m\u001b[0;32mNone\u001b[0m\u001b[0;34m,\u001b[0m\u001b[0;34m\u001b[0m\n",
      "\u001b[0;34m\u001b[0m    \u001b[0mintegrality\u001b[0m\u001b[0;34m=\u001b[0m\u001b[0;32mNone\u001b[0m\u001b[0;34m,\u001b[0m\u001b[0;34m\u001b[0m\n",
      "\u001b[0;34m\u001b[0m\u001b[0;34m)\u001b[0m\u001b[0;34m\u001b[0m\u001b[0;34m\u001b[0m\u001b[0m\n",
      "\u001b[0;31mDocstring:\u001b[0m\n",
      "Linear programming: minimize a linear objective function subject to linear\n",
      "equality and inequality constraints.\n",
      "\n",
      "Linear programming solves problems of the following form:\n",
      "\n",
      ".. math::\n",
      "\n",
      "    \\min_x \\ & c^T x \\\\\n",
      "    \\mbox{such that} \\ & A_{ub} x \\leq b_{ub},\\\\\n",
      "    & A_{eq} x = b_{eq},\\\\\n",
      "    & l \\leq x \\leq u ,\n",
      "\n",
      "where :math:`x` is a vector of decision variables; :math:`c`,\n",
      ":math:`b_{ub}`, :math:`b_{eq}`, :math:`l`, and :math:`u` are vectors; and\n",
      ":math:`A_{ub}` and :math:`A_{eq}` are matrices.\n",
      "\n",
      "Alternatively, that's:\n",
      "\n",
      "    - minimize ::\n",
      "\n",
      "        c @ x\n",
      "\n",
      "    - such that ::\n",
      "\n",
      "        A_ub @ x <= b_ub\n",
      "        A_eq @ x == b_eq\n",
      "        lb <= x <= ub\n",
      "\n",
      "Note that by default ``lb = 0`` and ``ub = None``. Other bounds can be\n",
      "specified with ``bounds``.\n",
      "\n",
      "Parameters\n",
      "----------\n",
      "c : 1-D array\n",
      "    The coefficients of the linear objective function to be minimized.\n",
      "A_ub : 2-D array, optional\n",
      "    The inequality constraint matrix. Each row of ``A_ub`` specifies the\n",
      "    coefficients of a linear inequality constraint on ``x``.\n",
      "b_ub : 1-D array, optional\n",
      "    The inequality constraint vector. Each element represents an\n",
      "    upper bound on the corresponding value of ``A_ub @ x``.\n",
      "A_eq : 2-D array, optional\n",
      "    The equality constraint matrix. Each row of ``A_eq`` specifies the\n",
      "    coefficients of a linear equality constraint on ``x``.\n",
      "b_eq : 1-D array, optional\n",
      "    The equality constraint vector. Each element of ``A_eq @ x`` must equal\n",
      "    the corresponding element of ``b_eq``.\n",
      "bounds : sequence, optional\n",
      "    A sequence of ``(min, max)`` pairs for each element in ``x``, defining\n",
      "    the minimum and maximum values of that decision variable.\n",
      "    If a single tuple ``(min, max)`` is provided, then ``min`` and ``max``\n",
      "    will serve as bounds for all decision variables.\n",
      "    Use ``None`` to indicate that there is no bound. For instance, the\n",
      "    default bound ``(0, None)`` means that all decision variables are\n",
      "    non-negative, and the pair ``(None, None)`` means no bounds at all,\n",
      "    i.e. all variables are allowed to be any real.\n",
      "method : str, optional\n",
      "    The algorithm used to solve the standard form problem.\n",
      "    :ref:`'highs' <optimize.linprog-highs>` (default),\n",
      "    :ref:`'highs-ds' <optimize.linprog-highs-ds>`,\n",
      "    :ref:`'highs-ipm' <optimize.linprog-highs-ipm>`,\n",
      "    :ref:`'interior-point' <optimize.linprog-interior-point>` (legacy),\n",
      "    :ref:`'revised simplex' <optimize.linprog-revised_simplex>` (legacy),\n",
      "    and\n",
      "    :ref:`'simplex' <optimize.linprog-simplex>` (legacy) are supported.\n",
      "    The legacy methods are deprecated and will be removed in SciPy 1.11.0.\n",
      "callback : callable, optional\n",
      "    If a callback function is provided, it will be called at least once per\n",
      "    iteration of the algorithm. The callback function must accept a single\n",
      "    `scipy.optimize.OptimizeResult` consisting of the following fields:\n",
      "\n",
      "    x : 1-D array\n",
      "        The current solution vector.\n",
      "    fun : float\n",
      "        The current value of the objective function ``c @ x``.\n",
      "    success : bool\n",
      "        ``True`` when the algorithm has completed successfully.\n",
      "    slack : 1-D array\n",
      "        The (nominally positive) values of the slack,\n",
      "        ``b_ub - A_ub @ x``.\n",
      "    con : 1-D array\n",
      "        The (nominally zero) residuals of the equality constraints,\n",
      "        ``b_eq - A_eq @ x``.\n",
      "    phase : int\n",
      "        The phase of the algorithm being executed.\n",
      "    status : int\n",
      "        An integer representing the status of the algorithm.\n",
      "\n",
      "        ``0`` : Optimization proceeding nominally.\n",
      "\n",
      "        ``1`` : Iteration limit reached.\n",
      "\n",
      "        ``2`` : Problem appears to be infeasible.\n",
      "\n",
      "        ``3`` : Problem appears to be unbounded.\n",
      "\n",
      "        ``4`` : Numerical difficulties encountered.\n",
      "\n",
      "        nit : int\n",
      "            The current iteration number.\n",
      "        message : str\n",
      "            A string descriptor of the algorithm status.\n",
      "\n",
      "    Callback functions are not currently supported by the HiGHS methods.\n",
      "\n",
      "options : dict, optional\n",
      "    A dictionary of solver options. All methods accept the following\n",
      "    options:\n",
      "\n",
      "    maxiter : int\n",
      "        Maximum number of iterations to perform.\n",
      "        Default: see method-specific documentation.\n",
      "    disp : bool\n",
      "        Set to ``True`` to print convergence messages.\n",
      "        Default: ``False``.\n",
      "    presolve : bool\n",
      "        Set to ``False`` to disable automatic presolve.\n",
      "        Default: ``True``.\n",
      "\n",
      "    All methods except the HiGHS solvers also accept:\n",
      "\n",
      "    tol : float\n",
      "        A tolerance which determines when a residual is \"close enough\" to\n",
      "        zero to be considered exactly zero.\n",
      "    autoscale : bool\n",
      "        Set to ``True`` to automatically perform equilibration.\n",
      "        Consider using this option if the numerical values in the\n",
      "        constraints are separated by several orders of magnitude.\n",
      "        Default: ``False``.\n",
      "    rr : bool\n",
      "        Set to ``False`` to disable automatic redundancy removal.\n",
      "        Default: ``True``.\n",
      "    rr_method : string\n",
      "        Method used to identify and remove redundant rows from the\n",
      "        equality constraint matrix after presolve. For problems with\n",
      "        dense input, the available methods for redundancy removal are:\n",
      "\n",
      "        \"SVD\":\n",
      "            Repeatedly performs singular value decomposition on\n",
      "            the matrix, detecting redundant rows based on nonzeros\n",
      "            in the left singular vectors that correspond with\n",
      "            zero singular values. May be fast when the matrix is\n",
      "            nearly full rank.\n",
      "        \"pivot\":\n",
      "            Uses the algorithm presented in [5]_ to identify\n",
      "            redundant rows.\n",
      "        \"ID\":\n",
      "            Uses a randomized interpolative decomposition.\n",
      "            Identifies columns of the matrix transpose not used in\n",
      "            a full-rank interpolative decomposition of the matrix.\n",
      "        None:\n",
      "            Uses \"svd\" if the matrix is nearly full rank, that is,\n",
      "            the difference between the matrix rank and the number\n",
      "            of rows is less than five. If not, uses \"pivot\". The\n",
      "            behavior of this default is subject to change without\n",
      "            prior notice.\n",
      "\n",
      "        Default: None.\n",
      "        For problems with sparse input, this option is ignored, and the\n",
      "        pivot-based algorithm presented in [5]_ is used.\n",
      "\n",
      "    For method-specific options, see\n",
      "    :func:`show_options('linprog') <show_options>`.\n",
      "\n",
      "x0 : 1-D array, optional\n",
      "    Guess values of the decision variables, which will be refined by\n",
      "    the optimization algorithm. This argument is currently used only by the\n",
      "    'revised simplex' method, and can only be used if `x0` represents a\n",
      "    basic feasible solution.\n",
      "\n",
      "integrality : 1-D array or int, optional\n",
      "    Indicates the type of integrality constraint on each decision variable.\n",
      "\n",
      "    ``0`` : Continuous variable; no integrality constraint.\n",
      "\n",
      "    ``1`` : Integer variable; decision variable must be an integer\n",
      "    within `bounds`.\n",
      "\n",
      "    ``2`` : Semi-continuous variable; decision variable must be within\n",
      "    `bounds` or take value ``0``.\n",
      "\n",
      "    ``3`` : Semi-integer variable; decision variable must be an integer\n",
      "    within `bounds` or take value ``0``.\n",
      "\n",
      "    By default, all variables are continuous.\n",
      "\n",
      "    For mixed integrality constraints, supply an array of shape `c.shape`.\n",
      "    To infer a constraint on each decision variable from shorter inputs,\n",
      "    the argument will be broadcasted to `c.shape` using `np.broadcast_to`.\n",
      "\n",
      "    This argument is currently used only by the ``'highs'`` method and\n",
      "    ignored otherwise.\n",
      "\n",
      "Returns\n",
      "-------\n",
      "res : OptimizeResult\n",
      "    A :class:`scipy.optimize.OptimizeResult` consisting of the fields\n",
      "    below. Note that the return types of the fields may depend on whether\n",
      "    the optimization was successful, therefore it is recommended to check\n",
      "    `OptimizeResult.status` before relying on the other fields:\n",
      "\n",
      "    x : 1-D array\n",
      "        The values of the decision variables that minimizes the\n",
      "        objective function while satisfying the constraints.\n",
      "    fun : float\n",
      "        The optimal value of the objective function ``c @ x``.\n",
      "    slack : 1-D array\n",
      "        The (nominally positive) values of the slack variables,\n",
      "        ``b_ub - A_ub @ x``.\n",
      "    con : 1-D array\n",
      "        The (nominally zero) residuals of the equality constraints,\n",
      "        ``b_eq - A_eq @ x``.\n",
      "    success : bool\n",
      "        ``True`` when the algorithm succeeds in finding an optimal\n",
      "        solution.\n",
      "    status : int\n",
      "        An integer representing the exit status of the algorithm.\n",
      "\n",
      "        ``0`` : Optimization terminated successfully.\n",
      "\n",
      "        ``1`` : Iteration limit reached.\n",
      "\n",
      "        ``2`` : Problem appears to be infeasible.\n",
      "\n",
      "        ``3`` : Problem appears to be unbounded.\n",
      "\n",
      "        ``4`` : Numerical difficulties encountered.\n",
      "\n",
      "    nit : int\n",
      "        The total number of iterations performed in all phases.\n",
      "    message : str\n",
      "        A string descriptor of the exit status of the algorithm.\n",
      "\n",
      "See Also\n",
      "--------\n",
      "show_options : Additional options accepted by the solvers.\n",
      "\n",
      "Notes\n",
      "-----\n",
      "This section describes the available solvers that can be selected by the\n",
      "'method' parameter.\n",
      "\n",
      "`'highs-ds'` and\n",
      "`'highs-ipm'` are interfaces to the\n",
      "HiGHS simplex and interior-point method solvers [13]_, respectively.\n",
      "`'highs'` (default) chooses between\n",
      "the two automatically. These are the fastest linear\n",
      "programming solvers in SciPy, especially for large, sparse problems;\n",
      "which of these two is faster is problem-dependent.\n",
      "The other solvers (`'interior-point'`, `'revised simplex'`, and\n",
      "`'simplex'`) are legacy methods and will be removed in SciPy 1.11.0.\n",
      "\n",
      "Method *highs-ds* is a wrapper of the C++ high performance dual\n",
      "revised simplex implementation (HSOL) [13]_, [14]_. Method *highs-ipm*\n",
      "is a wrapper of a C++ implementation of an **i**\\ nterior-\\ **p**\\ oint\n",
      "**m**\\ ethod [13]_; it features a crossover routine, so it is as accurate\n",
      "as a simplex solver. Method *highs* chooses between the two automatically.\n",
      "For new code involving `linprog`, we recommend explicitly choosing one of\n",
      "these three method values.\n",
      "\n",
      ".. versionadded:: 1.6.0\n",
      "\n",
      "Method *interior-point* uses the primal-dual path following algorithm\n",
      "as outlined in [4]_. This algorithm supports sparse constraint matrices and\n",
      "is typically faster than the simplex methods, especially for large, sparse\n",
      "problems. Note, however, that the solution returned may be slightly less\n",
      "accurate than those of the simplex methods and will not, in general,\n",
      "correspond with a vertex of the polytope defined by the constraints.\n",
      "\n",
      ".. versionadded:: 1.0.0\n",
      "\n",
      "Method *revised simplex* uses the revised simplex method as described in\n",
      "[9]_, except that a factorization [11]_ of the basis matrix, rather than\n",
      "its inverse, is efficiently maintained and used to solve the linear systems\n",
      "at each iteration of the algorithm.\n",
      "\n",
      ".. versionadded:: 1.3.0\n",
      "\n",
      "Method *simplex* uses a traditional, full-tableau implementation of\n",
      "Dantzig's simplex algorithm [1]_, [2]_ (*not* the\n",
      "Nelder-Mead simplex). This algorithm is included for backwards\n",
      "compatibility and educational purposes.\n",
      "\n",
      ".. versionadded:: 0.15.0\n",
      "\n",
      "Before applying *interior-point*, *revised simplex*, or *simplex*,\n",
      "a presolve procedure based on [8]_ attempts\n",
      "to identify trivial infeasibilities, trivial unboundedness, and potential\n",
      "problem simplifications. Specifically, it checks for:\n",
      "\n",
      "- rows of zeros in ``A_eq`` or ``A_ub``, representing trivial constraints;\n",
      "- columns of zeros in ``A_eq`` `and` ``A_ub``, representing unconstrained\n",
      "  variables;\n",
      "- column singletons in ``A_eq``, representing fixed variables; and\n",
      "- column singletons in ``A_ub``, representing simple bounds.\n",
      "\n",
      "If presolve reveals that the problem is unbounded (e.g. an unconstrained\n",
      "and unbounded variable has negative cost) or infeasible (e.g., a row of\n",
      "zeros in ``A_eq`` corresponds with a nonzero in ``b_eq``), the solver\n",
      "terminates with the appropriate status code. Note that presolve terminates\n",
      "as soon as any sign of unboundedness is detected; consequently, a problem\n",
      "may be reported as unbounded when in reality the problem is infeasible\n",
      "(but infeasibility has not been detected yet). Therefore, if it is\n",
      "important to know whether the problem is actually infeasible, solve the\n",
      "problem again with option ``presolve=False``.\n",
      "\n",
      "If neither infeasibility nor unboundedness are detected in a single pass\n",
      "of the presolve, bounds are tightened where possible and fixed\n",
      "variables are removed from the problem. Then, linearly dependent rows\n",
      "of the ``A_eq`` matrix are removed, (unless they represent an\n",
      "infeasibility) to avoid numerical difficulties in the primary solve\n",
      "routine. Note that rows that are nearly linearly dependent (within a\n",
      "prescribed tolerance) may also be removed, which can change the optimal\n",
      "solution in rare cases. If this is a concern, eliminate redundancy from\n",
      "your problem formulation and run with option ``rr=False`` or\n",
      "``presolve=False``.\n",
      "\n",
      "Several potential improvements can be made here: additional presolve\n",
      "checks outlined in [8]_ should be implemented, the presolve routine should\n",
      "be run multiple times (until no further simplifications can be made), and\n",
      "more of the efficiency improvements from [5]_ should be implemented in the\n",
      "redundancy removal routines.\n",
      "\n",
      "After presolve, the problem is transformed to standard form by converting\n",
      "the (tightened) simple bounds to upper bound constraints, introducing\n",
      "non-negative slack variables for inequality constraints, and expressing\n",
      "unbounded variables as the difference between two non-negative variables.\n",
      "Optionally, the problem is automatically scaled via equilibration [12]_.\n",
      "The selected algorithm solves the standard form problem, and a\n",
      "postprocessing routine converts the result to a solution to the original\n",
      "problem.\n",
      "\n",
      "References\n",
      "----------\n",
      ".. [1] Dantzig, George B., Linear programming and extensions. Rand\n",
      "       Corporation Research Study Princeton Univ. Press, Princeton, NJ,\n",
      "       1963\n",
      ".. [2] Hillier, S.H. and Lieberman, G.J. (1995), \"Introduction to\n",
      "       Mathematical Programming\", McGraw-Hill, Chapter 4.\n",
      ".. [3] Bland, Robert G. New finite pivoting rules for the simplex method.\n",
      "       Mathematics of Operations Research (2), 1977: pp. 103-107.\n",
      ".. [4] Andersen, Erling D., and Knud D. Andersen. \"The MOSEK interior point\n",
      "       optimizer for linear programming: an implementation of the\n",
      "       homogeneous algorithm.\" High performance optimization. Springer US,\n",
      "       2000. 197-232.\n",
      ".. [5] Andersen, Erling D. \"Finding all linearly dependent rows in\n",
      "       large-scale linear programming.\" Optimization Methods and Software\n",
      "       6.3 (1995): 219-227.\n",
      ".. [6] Freund, Robert M. \"Primal-Dual Interior-Point Methods for Linear\n",
      "       Programming based on Newton's Method.\" Unpublished Course Notes,\n",
      "       March 2004. Available 2/25/2017 at\n",
      "       https://ocw.mit.edu/courses/sloan-school-of-management/15-084j-nonlinear-programming-spring-2004/lecture-notes/lec14_int_pt_mthd.pdf\n",
      ".. [7] Fourer, Robert. \"Solving Linear Programs by Interior-Point Methods.\"\n",
      "       Unpublished Course Notes, August 26, 2005. Available 2/25/2017 at\n",
      "       http://www.4er.org/CourseNotes/Book%20B/B-III.pdf\n",
      ".. [8] Andersen, Erling D., and Knud D. Andersen. \"Presolving in linear\n",
      "       programming.\" Mathematical Programming 71.2 (1995): 221-245.\n",
      ".. [9] Bertsimas, Dimitris, and J. Tsitsiklis. \"Introduction to linear\n",
      "       programming.\" Athena Scientific 1 (1997): 997.\n",
      ".. [10] Andersen, Erling D., et al. Implementation of interior point\n",
      "        methods for large scale linear programming. HEC/Universite de\n",
      "        Geneve, 1996.\n",
      ".. [11] Bartels, Richard H. \"A stabilization of the simplex method.\"\n",
      "        Journal in  Numerische Mathematik 16.5 (1971): 414-434.\n",
      ".. [12] Tomlin, J. A. \"On scaling linear programming problems.\"\n",
      "        Mathematical Programming Study 4 (1975): 146-166.\n",
      ".. [13] Huangfu, Q., Galabova, I., Feldmeier, M., and Hall, J. A. J.\n",
      "        \"HiGHS - high performance software for linear optimization.\"\n",
      "        https://highs.dev/\n",
      ".. [14] Huangfu, Q. and Hall, J. A. J. \"Parallelizing the dual revised\n",
      "        simplex method.\" Mathematical Programming Computation, 10 (1),\n",
      "        119-142, 2018. DOI: 10.1007/s12532-017-0130-5\n",
      "\n",
      "Examples\n",
      "--------\n",
      "Consider the following problem:\n",
      "\n",
      ".. math::\n",
      "\n",
      "    \\min_{x_0, x_1} \\ -x_0 + 4x_1 & \\\\\n",
      "    \\mbox{such that} \\ -3x_0 + x_1 & \\leq 6,\\\\\n",
      "    -x_0 - 2x_1 & \\geq -4,\\\\\n",
      "    x_1 & \\geq -3.\n",
      "\n",
      "The problem is not presented in the form accepted by `linprog`. This is\n",
      "easily remedied by converting the \"greater than\" inequality\n",
      "constraint to a \"less than\" inequality constraint by\n",
      "multiplying both sides by a factor of :math:`-1`. Note also that the last\n",
      "constraint is really the simple bound :math:`-3 \\leq x_1 \\leq \\infty`.\n",
      "Finally, since there are no bounds on :math:`x_0`, we must explicitly\n",
      "specify the bounds :math:`-\\infty \\leq x_0 \\leq \\infty`, as the\n",
      "default is for variables to be non-negative. After collecting coeffecients\n",
      "into arrays and tuples, the input for this problem is:\n",
      "\n",
      ">>> from scipy.optimize import linprog\n",
      ">>> c = [-1, 4]\n",
      ">>> A = [[-3, 1], [1, 2]]\n",
      ">>> b = [6, 4]\n",
      ">>> x0_bounds = (None, None)\n",
      ">>> x1_bounds = (-3, None)\n",
      ">>> res = linprog(c, A_ub=A, b_ub=b, bounds=[x0_bounds, x1_bounds])\n",
      ">>> res.fun\n",
      "-22.0\n",
      ">>> res.x\n",
      "array([10., -3.])\n",
      ">>> res.message\n",
      "'Optimization terminated successfully. (HiGHS Status 7: Optimal)'\n",
      "\n",
      "The marginals (AKA dual values / shadow prices / Lagrange multipliers)\n",
      "and residuals (slacks) are also available.\n",
      "\n",
      ">>> res.ineqlin\n",
      "  residual: [ 3.900e+01  0.000e+00]\n",
      " marginals: [-0.000e+00 -1.000e+00]\n",
      "\n",
      "For example, because the marginal associated with the second inequality\n",
      "constraint is -1, we expect the optimal value of the objective function\n",
      "to decrease by ``eps`` if we add a small amount ``eps`` to the right hand\n",
      "side of the second inequality constraint:\n",
      "\n",
      ">>> eps = 0.05\n",
      ">>> b[1] += eps\n",
      ">>> linprog(c, A_ub=A, b_ub=b, bounds=[x0_bounds, x1_bounds]).fun\n",
      "-22.05\n",
      "\n",
      "Also, because the residual on the first inequality constraint is 39, we\n",
      "can decrease the right hand side of the first constraint by 39 without\n",
      "affecting the optimal solution.\n",
      "\n",
      ">>> b = [6, 4]  # reset to original values\n",
      ">>> b[0] -= 39\n",
      ">>> linprog(c, A_ub=A, b_ub=b, bounds=[x0_bounds, x1_bounds]).fun\n",
      "-22.0\n",
      "\u001b[0;31mFile:\u001b[0m      ~/anaconda3/envs/xrd/lib/python3.10/site-packages/scipy/optimize/_linprog.py\n",
      "\u001b[0;31mType:\u001b[0m      function"
     ]
    }
   ],
   "source": [
    "linprog?"
   ]
  },
  {
   "cell_type": "code",
   "execution_count": 72,
   "metadata": {},
   "outputs": [
    {
     "data": {
      "text/plain": [
       "array([[-1.41421356, -1.03062234],\n",
       "       [ 1.41421356, -1.03062234],\n",
       "       [-1.41421356,  1.03062234],\n",
       "       [ 1.41421356,  1.03062234]])"
      ]
     },
     "execution_count": 72,
     "metadata": {},
     "output_type": "execute_result"
    }
   ],
   "source": [
    "hs.intersections"
   ]
  },
  {
   "cell_type": "code",
   "execution_count": 139,
   "metadata": {},
   "outputs": [],
   "source": [
    "G = np.eye(5) - np.linalg.pinv(M)@M"
   ]
  },
  {
   "cell_type": "code",
   "execution_count": 140,
   "metadata": {},
   "outputs": [
    {
     "data": {
      "text/plain": [
       "2"
      ]
     },
     "execution_count": 140,
     "metadata": {},
     "output_type": "execute_result"
    }
   ],
   "source": [
    "np.linalg.matrix_rank(G, tol=1e-12)"
   ]
  },
  {
   "cell_type": "code",
   "execution_count": 141,
   "metadata": {},
   "outputs": [
    {
     "name": "stdout",
     "output_type": "stream",
     "text": [
      "[1. 1. 0. 0. 0.]\n"
     ]
    }
   ],
   "source": [
    "U, S, Vh = np.linalg.svd(G)\n",
    "print(np.round(S, 12))\n",
    "S = np.diag(S)\n"
   ]
  },
  {
   "cell_type": "code",
   "execution_count": 142,
   "metadata": {},
   "outputs": [
    {
     "ename": "SyntaxError",
     "evalue": "invalid syntax (3159635445.py, line 3)",
     "output_type": "error",
     "traceback": [
      "\u001b[0;36m  Cell \u001b[0;32mIn[142], line 3\u001b[0;36m\u001b[0m\n\u001b[0;31m    p_Q = integral p(x)delta(Mx=dQ) dx\u001b[0m\n\u001b[0m                   ^\u001b[0m\n\u001b[0;31mSyntaxError\u001b[0m\u001b[0;31m:\u001b[0m invalid syntax\n"
     ]
    }
   ],
   "source": [
    "U@U.T\n",
    "\n",
    "p_Q = integral p(x)delta(Mx=dQ) dx\n",
    "p_Q = integral p(c(dQ) + G @ w) dw\n",
    "\n",
    "G @ w < ub\n",
    "G @ w > lb"
   ]
  },
  {
   "cell_type": "code",
   "execution_count": 143,
   "metadata": {},
   "outputs": [
    {
     "data": {
      "text/plain": [
       "array([ 0.95836295+0.28555291j,  0.95836295-0.28555291j,\n",
       "       -0.77895602+0.62707856j, -0.77895602-0.62707856j,\n",
       "       -1.        +0.j        ])"
      ]
     },
     "execution_count": 143,
     "metadata": {},
     "output_type": "execute_result"
    }
   ],
   "source": [
    "vals, vecs = np.linalg.eig(U)\n",
    "vals"
   ]
  },
  {
   "cell_type": "code",
   "execution_count": 144,
   "metadata": {},
   "outputs": [
    {
     "name": "stdout",
     "output_type": "stream",
     "text": [
      "(5, 3)\n",
      "[-0.93318009 -0.05663738 -0.18755045 -0.10607085  0.16431524]\n",
      "[-0.7311003  -0.00302249 -0.13510856 -0.04007797  0.12868312]\n",
      "[-0.08533568 -0.34843249 -0.11569883 -0.36675732  0.01481739]\n",
      "[-0.211225   -0.4288394  -0.16184738 -0.45676968  0.03701508]\n",
      "[-0.6939655  -0.29131769 -0.21096413 -0.33811373  0.12213525]\n",
      "[-0.12511328 -0.07432317 -0.04439577 -0.08361275  0.02183126]\n",
      "[-0.5081057  -0.40171562 -0.20852744 -0.44356339  0.08936316]\n",
      "[-0.94825592 -0.00880859 -0.17660117 -0.05707684  0.16697351]\n",
      "[-0.46931837 -0.07214975 -0.10691107 -0.09875508  0.0825239 ]\n",
      "[-0.91055754 -0.17548615 -0.21748007 -0.22856534  0.16032627]\n"
     ]
    }
   ],
   "source": [
    "print(Mp.shape)\n",
    "for u in np.random.rand(10,5):\n",
    "    #x = Mp @ dQ + G @ w\n",
    "    l = Vh @ w\n",
    "    # Vh is just a 1:1 map of R5 so we might as well do: S@u\n",
    "    y = U.T @ Mp @ dQ + S @ u\n",
    "    x = U @ y\n",
    "    dQg = M@x\n",
    "    #print(dQg)\n",
    "    print( x )"
   ]
  },
  {
   "cell_type": "code",
   "execution_count": 145,
   "metadata": {},
   "outputs": [],
   "source": [
    "# We define the ingoing variables of our problem.\n",
    "m = sp.MatrixSymbol('\\\\boldsymbol{m}', 3, 1)\n",
    "mu_Z = 0#sp.MatrixSymbol('\\\\boldsymbol{\\mu}_Z', 3, 1)\n",
    "dQ = sp.MatrixSymbol('\\Delta \\\\boldsymbol{Q}', 3, 1)\n",
    "S_Z = sp.MatrixSymbol('\\\\boldsymbol{\\Sigma}_Z', 3, 3)\n",
    "\n",
    "s = sp.Symbol('s')\n",
    "mu = 0#sp.Symbol('mu')\n",
    "sigma = sp.Symbol('sigma')\n",
    "\n",
    "norm_c_p_Z = sp.Symbol('c_Z')\n",
    "norm_c_xi_v = sp.Symbol('c_xi_v')\n",
    "\n",
    "half = sp.Rational(1, 2)"
   ]
  },
  {
   "cell_type": "code",
   "execution_count": 146,
   "metadata": {},
   "outputs": [
    {
     "data": {
      "text/latex": [
       "$\\displaystyle - s \\Delta \\boldsymbol{Q}^{T} \\boldsymbol{\\Sigma}_Z \\boldsymbol{m} + - s \\boldsymbol{m}^{T} \\boldsymbol{\\Sigma}_Z \\Delta \\boldsymbol{Q} + s^{2} \\boldsymbol{m}^{T} \\boldsymbol{\\Sigma}_Z \\boldsymbol{m} + \\Delta \\boldsymbol{Q}^{T} \\boldsymbol{\\Sigma}_Z \\Delta \\boldsymbol{Q}$"
      ],
      "text/plain": [
       "(-s)*\\Delta \\boldsymbol{Q}.T*\\boldsymbol{\\Sigma}_Z*\\boldsymbol{m} + (-s)*\\boldsymbol{m}.T*\\boldsymbol{\\Sigma}_Z*\\Delta \\boldsymbol{Q} + s**2*\\boldsymbol{m}.T*\\boldsymbol{\\Sigma}_Z*\\boldsymbol{m} + \\Delta \\boldsymbol{Q}.T*\\boldsymbol{\\Sigma}_Z*\\Delta \\boldsymbol{Q}"
      ]
     },
     "metadata": {},
     "output_type": "display_data"
    },
    {
     "data": {
      "text/latex": [
       "$\\displaystyle \\frac{s^{2}}{\\sigma^{2}}$"
      ],
      "text/plain": [
       "s**2/sigma**2"
      ]
     },
     "metadata": {},
     "output_type": "display_data"
    }
   ],
   "source": [
    "# This is the exponent of the convolution of p_xi_v\n",
    "# NOTE: factor -1/2 is left out for simplicity, we will add this in the end\n",
    "#exp_p_xi_v = ( (s-mu)**2  / sigma**2 ).expand()\n",
    "exp_p_xi_v = ( (s)**2  / sigma**2 ).expand()\n",
    "\n",
    "# This is the exponent of the convolution of p_Z, i.e of p_Z(dQ-t), with t=m*s\n",
    "# NOTE: factor -1/2 is left out for simplicity, we will add this in the end\n",
    "#exp_p_Z = sp.simplify( ((dQ - m*s - mu_Z).T * S_Z * (dQ - m*s - mu_Z)).expand() )\n",
    "exp_p_Z = sp.simplify( ((dQ - m*s).T * S_Z * (dQ - m*s)).expand() )\n",
    "\n",
    "display(exp_p_Z)\n",
    "display(exp_p_xi_v)"
   ]
  },
  {
   "cell_type": "code",
   "execution_count": 8,
   "metadata": {},
   "outputs": [
    {
     "data": {
      "text/latex": [
       "$\\displaystyle - 2 A s + C + D s^{2}$"
      ],
      "text/plain": [
       "-2*A*s + C + D*s**2"
      ]
     },
     "metadata": {},
     "output_type": "display_data"
    }
   ],
   "source": [
    "# We have to help sympy a bit here, it does not like scalars mixed with matrices..\n",
    "# We pack up the dot products as fixed variables identified by hand from above,\n",
    "# here we also use the symmetry of Sigma_Z to make it more compact.\n",
    "A = sp.Symbol('A') # Delta_Q.T*Sigma_Z*m\n",
    "B = sp.Symbol('B') # m.T*Sigma_Z*mu_Z\n",
    "C = sp.Symbol('C') # \\Delta Q.T*boldsymbol{\\Sigma}_Z*\\Delta Q - 2\\Delta Q.T*Sigma_Z*mu_Z + mu_Z.T*Sigma_Z*mu_Z\n",
    "D = sp.Symbol('D') # m.T*Sigma_Z*m\n",
    "#exp_p_Z_compact = -2*A*s + 2*B*s + C + D*s**2\n",
    "exp_p_Z_compact = -2*A*s + C + D*s**2\n",
    "\n",
    "display(exp_p_Z_compact)"
   ]
  },
  {
   "cell_type": "code",
   "execution_count": 9,
   "metadata": {},
   "outputs": [
    {
     "name": "stdout",
     "output_type": "stream",
     "text": [
      "\\begin{equation}\n",
      "\\begin{split} \n",
      "& A = \\Delta \\boldsymbol{Q}^{T} \\boldsymbol{\\Sigma}_Z \\boldsymbol{m}\\\\\n",
      "& B = 0\\\\\n",
      "& C = \\Delta \\boldsymbol{Q}^{T} \\boldsymbol{\\Sigma}_Z \\Delta \\boldsymbol{Q}\\\\\n",
      "& D = \\boldsymbol{m}^{T} \\boldsymbol{\\Sigma}_Z \\boldsymbol{m}\\\\\n",
      "\\end{split}\n",
      "\\end{equation}\n"
     ]
    }
   ],
   "source": [
    "# We render the above substitutions, A,B,C,D, as latex code here\n",
    "# print(\"\\\\begin{equation}\")\n",
    "# print(\"\\\\begin{split} \")\n",
    "# print(\"& A = \"+sp.latex(dQ.T*S_Z*m) + chr(92) + chr(92))\n",
    "# print(\"& B = \"+sp.latex(m.T*S_Z*mu_Z) + chr(92) + chr(92))\n",
    "# print(\"& C = \"+sp.latex(dQ.T*S_Z*dQ - 2*dQ.T*S_Z*mu_Z + mu_Z.T*S_Z*mu_Z) + chr(92) + chr(92))\n",
    "# print(\"& D = \"+sp.latex(m.T*S_Z*m) + chr(92) + chr(92))\n",
    "# print(\"\\\\end{split}\")\n",
    "# print(\"\\\\end{equation}\")\n",
    "print(\"\\\\begin{equation}\")\n",
    "print(\"\\\\begin{split} \")\n",
    "print(\"& A = \"+sp.latex(dQ.T*S_Z*m) + chr(92) + chr(92))\n",
    "print(\"& B = 0\"+ chr(92) + chr(92))\n",
    "print(\"& C = \"+sp.latex(dQ.T*S_Z*dQ) + chr(92) + chr(92))\n",
    "print(\"& D = \"+sp.latex(m.T*S_Z*m) + chr(92) + chr(92))\n",
    "print(\"\\\\end{split}\")\n",
    "print(\"\\\\end{equation}\")"
   ]
  },
  {
   "cell_type": "code",
   "execution_count": 10,
   "metadata": {},
   "outputs": [
    {
     "data": {
      "text/latex": [
       "$\\displaystyle \\rho_{0} = D + \\frac{1}{\\sigma^{2}}$"
      ],
      "text/plain": [
       "Eq(rho_0, D + sigma**(-2))"
      ]
     },
     "metadata": {},
     "output_type": "display_data"
    },
    {
     "data": {
      "text/latex": [
       "$\\displaystyle \\rho_{1} = - 2 A$"
      ],
      "text/plain": [
       "Eq(rho_1, -2*A)"
      ]
     },
     "metadata": {},
     "output_type": "display_data"
    },
    {
     "data": {
      "text/latex": [
       "$\\displaystyle \\rho_{2} = C$"
      ],
      "text/plain": [
       "Eq(rho_2, C)"
      ]
     },
     "metadata": {},
     "output_type": "display_data"
    }
   ],
   "source": [
    "# Now we are ready to add the exponents and try to complete the square.\n",
    "\n",
    "# we first add the (scalar) exponents together\n",
    "exp = sp.simplify(exp_p_xi_v + exp_p_Z_compact).expand()\n",
    "\n",
    "# Next we collect terms and write the entire exponent as a \n",
    "# second degree polynomial. The coefficents of the polynomial \n",
    "# are denoted: a*s**2 + b*s + c. We find that:\n",
    "rho_0 = exp.coeff( s**2 )\n",
    "rho_1 = exp.coeff( s )\n",
    "rho_2 = sp.simplify(exp - rho_0*s*s - rho_1*s).expand()\n",
    "\n",
    "display(sp.Eq(sp.Symbol('rho_0'), rho_0))\n",
    "display(sp.Eq(sp.Symbol('rho_1'), rho_1))\n",
    "display(sp.Eq(sp.Symbol('rho_2'), rho_2))\n",
    "\n"
   ]
  },
  {
   "cell_type": "code",
   "execution_count": 11,
   "metadata": {},
   "outputs": [
    {
     "data": {
      "text/latex": [
       "$\\displaystyle \\left(D + \\frac{1}{\\sigma^{2}}\\right) \\left(- \\frac{2 A s}{D + \\frac{1}{\\sigma^{2}}} + \\frac{C}{D + \\frac{1}{\\sigma^{2}}} + s^{2}\\right)$"
      ],
      "text/plain": [
       "(D + sigma**(-2))*(-2*A*s/(D + sigma**(-2)) + C/(D + sigma**(-2)) + s**2)"
      ]
     },
     "metadata": {},
     "output_type": "display_data"
    }
   ],
   "source": [
    "# We factor out the leading coefficent to gain a polynomial\n",
    "# where s**2 is free.\n",
    "l = rho_1/rho_0\n",
    "p = rho_2/rho_0\n",
    "exponent_as_2dgr_poly = rho_0*(s**2 + l*s + p)\n",
    "display(  exponent_as_2dgr_poly )\n",
    "assert (exponent_as_2dgr_poly - (rho_0*s**2 + rho_1*s + rho_2) ).expand().simplify()==0"
   ]
  },
  {
   "cell_type": "code",
   "execution_count": 12,
   "metadata": {},
   "outputs": [],
   "source": [
    "# we now complete the square and collect the residual such that\n",
    "# the exponent can be written as: a*residual + a*(s + w)**2\n",
    "w = (rho_1/(2*rho_0))\n",
    "residual = s**2 + l*s + p - (s + w)**2\n",
    "assert ( rho_0*residual + rho_0*(s + w)**2 - (rho_0*s**2 + rho_1*s + rho_2) ).expand().simplify()==0\n"
   ]
  },
  {
   "cell_type": "code",
   "execution_count": 13,
   "metadata": {},
   "outputs": [
    {
     "data": {
      "text/latex": [
       "$\\displaystyle c_{Z} c_{\\xi v} e^{\\frac{- A^{2} \\sigma^{2} + C D \\sigma^{2} + C}{2 \\left(D \\sigma^{2} + 1\\right)}}$"
      ],
      "text/plain": [
       "c_Z*c_xi_v*exp((-A**2*sigma**2 + C*D*sigma**2 + C)/(2*(D*sigma**2 + 1)))"
      ]
     },
     "metadata": {},
     "output_type": "display_data"
    },
    {
     "name": "stdout",
     "output_type": "stream",
     "text": [
      "c_{Z} c_{\\xi v} e^{\\frac{- A^{2} \\sigma^{2} + C D \\sigma^{2} + C}{2 \\left(D \\sigma^{2} + 1\\right)}}\n"
     ]
    }
   ],
   "source": [
    "# The term to carry outside the integral is now known and by including the\n",
    "# -1/2 factor we find that\n",
    "leading_factor = norm_c_p_Z*norm_c_xi_v*sp.exp( (half*rho_0*residual).expand().simplify())\n",
    "display( leading_factor )\n",
    "print(sp.latex(leading_factor))\n",
    "\n"
   ]
  },
  {
   "cell_type": "code",
   "execution_count": 28,
   "metadata": {},
   "outputs": [
    {
     "data": {
      "text/latex": [
       "$\\displaystyle \\frac{\\sqrt{\\pi} \\left(\\operatorname{erf}{\\left(\\sqrt{u} \\left(b - w\\right) \\right)} + \\operatorname{erf}{\\left(\\sqrt{u} \\left(b + w\\right) \\right)}\\right)}{2 \\sqrt{u}}$"
      ],
      "text/plain": [
       "sqrt(pi)*(erf(sqrt(u)*(b - w)) + erf(sqrt(u)*(b + w)))/(2*sqrt(u))"
      ]
     },
     "metadata": {},
     "output_type": "display_data"
    },
    {
     "data": {
      "text/latex": [
       "$\\displaystyle w = - \\frac{2 A}{2 D + \\frac{2}{\\sigma^{2}}}$"
      ],
      "text/plain": [
       "Eq(w, -2*A/(2*D + 2/sigma**2))"
      ]
     },
     "metadata": {},
     "output_type": "display_data"
    },
    {
     "data": {
      "text/latex": [
       "$\\displaystyle u = \\frac{D}{2} + \\frac{1}{2 \\sigma^{2}}$"
      ],
      "text/plain": [
       "Eq(u, D/2 + 1/(2*sigma**2))"
      ]
     },
     "metadata": {},
     "output_type": "display_data"
    },
    {
     "name": "stdout",
     "output_type": "stream",
     "text": [
      "\\frac{\\sqrt{\\pi} \\left(\\operatorname{erf}{\\left(\\sqrt{u} \\left(b - w\\right) \\right)} + \\operatorname{erf}{\\left(\\sqrt{u} \\left(b + w\\right) \\right)}\\right)}{2 \\sqrt{u}}\n",
      "- \\frac{2 A}{2 D + \\frac{2}{\\sigma^{2}}}\n",
      "\\frac{D}{2} + \\frac{1}{2 \\sigma^{2}}\n"
     ]
    }
   ],
   "source": [
    "a = sp.Symbol('a', real=True ) # lower bound of integral\n",
    "b = sp.Symbol('b', real=True   ) # upper bound of integral\n",
    "_w = sp.Symbol('w', real=True ) # just a constant (w), this helps sympy not get distracted expanding w.\n",
    "_half_rho_0 = sp.Symbol('u', real=True ) # just a constant (half * rho_0), helps sympy not get distracted..\n",
    "# NOTE: rho_0>0 is known!\n",
    "integrand = sp.exp( -1 * _half_rho_0 * ( s + _w )**2 )\n",
    "#integral_result = sp.integrate(integrand, (s, a, b)).simplify()\n",
    "integral_result = sp.integrate(integrand, (s, -b, b)).simplify()\n",
    "\n",
    "display(integral_result)\n",
    "\n",
    "display(sp.Equality(_w, w))\n",
    "display(sp.Equality(_half_rho_0, half * rho_0))\n",
    "\n",
    "print(sp.latex(integral_result))\n",
    "print(sp.latex(w))\n",
    "print(sp.latex(half * rho_0))\n"
   ]
  },
  {
   "cell_type": "code",
   "execution_count": 330,
   "metadata": {},
   "outputs": [
    {
     "name": "stdout",
     "output_type": "stream",
     "text": [
      "(200,)\n"
     ]
    }
   ],
   "source": [
    "from scipy.special import erf\n",
    "\n",
    "Sigma_Z = np.random.rand(3, 3)\n",
    "Delta_Q = np.random.rand(3, 200)\n",
    "m = np.random.rand(3, )\n",
    "mu_Z = np.random.rand(3, )\n",
    "sig = np.random.rand()\n",
    "mu = np.random.rand()\n",
    "a = -0.0234\n",
    "b =  0.0234\n",
    "\n",
    "A = Delta_Q.T @ Sigma_Z @ m\n",
    "print(A.shape)"
   ]
  },
  {
   "cell_type": "code",
   "execution_count": 336,
   "metadata": {},
   "outputs": [
    {
     "data": {
      "text/plain": [
       "(200,)"
      ]
     },
     "execution_count": 336,
     "metadata": {},
     "output_type": "execute_result"
    }
   ],
   "source": [
    "(Delta_Q.T @ Sigma_Z @ mu_Z).shape"
   ]
  },
  {
   "cell_type": "code",
   "execution_count": 390,
   "metadata": {},
   "outputs": [],
   "source": [
    "from scipy.special import erf\n",
    "\n",
    "Sigma_Z = np.eye(3, 3)\n",
    "Delta_Q = np.random.normal(size=(3, 1000))\n",
    "m = np.random.rand(3, )\n",
    "mu_Z = np.random.rand(3, )\n",
    "sig = np.random.rand()\n",
    "mu = np.random.rand()\n",
    "a = -0.0234\n",
    "b =  0.0234\n",
    "c_Z = np.random.rand()\n",
    "c_xi_v = np.random.rand()\n",
    "\n",
    "def phi(x):\n",
    "    return 0.5 * (1 + erf(x / np.sqrt(2)))\n",
    "\n",
    "def p_Q(Sigma_Z, Delta_Q, m, mu_Z, sig, mu, a, b):\n",
    "\n",
    "    c_Z = 1 / np.sqrt((2 * np.pi)**3 * np.linalg.det(Sigma_Z))\n",
    "    c_xi_v = 1 / (np.sqrt(2 * np.pi * sig**2) * (phi((b - mu) / sig) - phi((a - mu) / sig)))\n",
    "\n",
    "    A = Delta_Q.T @ Sigma_Z @ m\n",
    "    B = m @ Sigma_Z @ mu_Z\n",
    "    C = np.sum(Delta_Q *( Sigma_Z @ Delta_Q),axis=0) - 2 * Delta_Q.T @ Sigma_Z @ mu_Z + mu_Z @ Sigma_Z @ mu_Z\n",
    "    D = m @ Sigma_Z @ m\n",
    "\n",
    "    w = (-2 * A + 2 * B - (2 * mu / sig**2)) / (2 * D + (2 / sig**2))\n",
    "    u = (D / 2) + (1 / (2 * sig**2))\n",
    "\n",
    "    su = np.sqrt(u)\n",
    "    spi = np.sqrt(np.pi)\n",
    "    f = ( spi * (erf(su * (b + w)) -erf(su * (a + w)))) / (2 * su)\n",
    "\n",
    "    L = (-A**2 * sig**2 + 2 * A * B * sig**2 - 2 * A * mu - B**2 * sig**2 + 2 * B * mu + C * D * sig**2 + C + D * mu**2) / (2 * (D * sig**2 + 1))\n",
    "    return c_Z*c_xi_v*np.exp(L)*f\n",
    "\n",
    "p = p_Q(Sigma_Z, Delta_Q, m, mu_Z, sig, mu, a, b)\n"
   ]
  },
  {
   "cell_type": "code",
   "execution_count": 26,
   "metadata": {},
   "outputs": [
    {
     "data": {
      "text/latex": [
       "$\\displaystyle \\frac{\\left|{\\sigma}\\right| \\operatorname{erf}{\\left(\\frac{\\sqrt{2} b}{2 \\left|{\\sigma}\\right|} \\right)}}{\\sigma}$"
      ],
      "text/plain": [
       "Abs(sigma)*erf(sqrt(2)*b/(2*Abs(sigma)))/sigma"
      ]
     },
     "metadata": {},
     "output_type": "display_data"
    },
    {
     "name": "stdout",
     "output_type": "stream",
     "text": [
      "\\frac{\\left|{\\sigma}\\right| \\operatorname{erf}{\\left(\\frac{\\sqrt{2} b}{2 \\left|{\\sigma}\\right|} \\right)}}{\\sigma}\n"
     ]
    },
    {
     "ename": "AssertionError",
     "evalue": "",
     "output_type": "error",
     "traceback": [
      "\u001b[0;31m---------------------------------------------------------------------------\u001b[0m",
      "\u001b[0;31mAssertionError\u001b[0m                            Traceback (most recent call last)",
      "Cell \u001b[0;32mIn[26], line 18\u001b[0m\n\u001b[1;32m     16\u001b[0m display(integral_result)\n\u001b[1;32m     17\u001b[0m \u001b[38;5;28mprint\u001b[39m(sp\u001b[38;5;241m.\u001b[39mlatex(integral_result))\n\u001b[0;32m---> 18\u001b[0m \u001b[38;5;28;01massert\u001b[39;00m integral_result2\u001b[38;5;241m==\u001b[39m\u001b[38;5;241m1\u001b[39m\n",
      "\u001b[0;31mAssertionError\u001b[0m: "
     ]
    }
   ],
   "source": [
    "sigma = sp.Symbol('sigma', real=True ) \n",
    "mu = 0#sp.Symbol('mu', real=True    ) \n",
    "x = sp.Symbol('x', real=True    ) \n",
    "b = sp.Symbol('b', real=True    ) \n",
    "a = -b#sp.Symbol('a', real=True    ) \n",
    "\n",
    "exp = sp.exp( -half * ( x - mu )**2 / sigma**2)\n",
    "\n",
    "integrand = 1/(sp.sqrt(2*sp.pi)*sigma)*exp\n",
    "\n",
    "integral_result = sp.integrate(integrand, (x, a, b)).simplify()\n",
    "\n",
    "norm_factor = integral_result*(sp.sqrt(2*sp.pi)*sigma)\n",
    "integral_result2 = sp.integrate(exp/norm_factor, (x, a, b)).simplify()\n",
    "\n",
    "display(integral_result)\n",
    "print(sp.latex(integral_result))\n",
    "assert integral_result2==1\n"
   ]
  },
  {
   "cell_type": "code",
   "execution_count": 413,
   "metadata": {},
   "outputs": [
    {
     "data": {
      "text/plain": [
       "array([ True, False,  True, False])"
      ]
     },
     "execution_count": 413,
     "metadata": {},
     "output_type": "execute_result"
    }
   ],
   "source": [
    "img = np.array([-1,-101,1,101])\n",
    "(-100 < img) * (100 > img)"
   ]
  },
  {
   "cell_type": "code",
   "execution_count": null,
   "metadata": {},
   "outputs": [],
   "source": []
  }
 ],
 "metadata": {
  "kernelspec": {
   "display_name": "xrd",
   "language": "python",
   "name": "xrd"
  },
  "language_info": {
   "codemirror_mode": {
    "name": "ipython",
    "version": 3
   },
   "file_extension": ".py",
   "mimetype": "text/x-python",
   "name": "python",
   "nbconvert_exporter": "python",
   "pygments_lexer": "ipython3",
   "version": "3.10.13"
  }
 },
 "nbformat": 4,
 "nbformat_minor": 2
}
