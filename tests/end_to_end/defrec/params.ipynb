{
 "cells": [
  {
   "cell_type": "code",
   "execution_count": 1,
   "metadata": {},
   "outputs": [],
   "source": [
    "import darling\n",
    "import matplotlib.pyplot as plt\n",
    "import numpy as np\n",
    "from scipy.spatial.transform import Rotation\n",
    "from darkmod import laue, reconstruct, scan\n",
    "from darkmod.beam import GaussianLineBeam, HeavysideBeam\n",
    "from darkmod.crl import CompundRefractiveLens\n",
    "from darkmod.crystal import Crystal\n",
    "from darkmod.deformation import straight_edge_dislocation\n",
    "from darkmod.detector import Detector\n",
    "from darkmod.resolution import PentaGauss\n",
    "from darkmod.utils import crop\n",
    "import matplotlib.pyplot as plt\n",
    "plt.style.use(\"dark_background\")\n",
    "fontsize = 16  # General font size for all text\n",
    "ticksize = 16  # tick size\n",
    "plt.rcParams[\"font.size\"] = fontsize\n",
    "plt.rcParams[\"xtick.labelsize\"] = ticksize\n",
    "plt.rcParams[\"ytick.labelsize\"] = ticksize"
   ]
  },
  {
   "cell_type": "code",
   "execution_count": 2,
   "metadata": {},
   "outputs": [],
   "source": [
    "number_of_lenses = 69\n",
    "lens_space = 1600  # microns\n",
    "lens_radius = 50  # microns\n",
    "magnification = 15.1\n",
    "\n",
    "energy = 19.1  # keV\n",
    "lambda_0 = laue.keV_to_angstrom(energy)\n",
    "\n",
    "Z = 4  # atomic number, berillium\n",
    "rho = 1.845  # density, berillium, g/cm^3\n",
    "A = 9.0121831  # atomic mass number, berillium, g/mol\n",
    "delta = laue.refractive_decrement(Z, rho, A, energy)\n",
    "\n",
    "crl = CompundRefractiveLens(\n",
    "    number_of_lenses, lens_space, lens_radius, delta, magnification\n",
    ")\n",
    "\n"
   ]
  },
  {
   "cell_type": "code",
   "execution_count": 5,
   "metadata": {},
   "outputs": [
    {
     "data": {
      "text/plain": [
       "6508990.118235542"
      ]
     },
     "execution_count": 5,
     "metadata": {},
     "output_type": "execute_result"
    }
   ],
   "source": [
    "crl.d2"
   ]
  },
  {
   "cell_type": "code",
   "execution_count": 7,
   "metadata": {},
   "outputs": [
    {
     "name": "stdout",
     "output_type": "stream",
     "text": [
      "------------------------------------------------------------\n",
      "CRL information in units of [m]\n",
      "------------------------------------------------------------\n",
      "Sample to crl distance (d1)     :  0.3782594142025971\n",
      "CRL to detector distance (d2)   :  6.508990118235542\n",
      "CRL focal length (f_N)          :  0.3512564714640069\n",
      "single lens focal length (f)    :  26.825318249049342\n",
      "Source to detector distance (L) :  6.99764953243814\n",
      "Lens spacing (T)                :  0.0016\n",
      "Number of lenses (N)            :  69\n",
      "Lens radius (R)                 :  5e-05\n",
      "Refractive Decrement (delta)    :  9.319553925846143e-07\n",
      "------------------------------------------------------------\n"
     ]
    }
   ],
   "source": [
    "\n",
    "hkl = np.array([-1, -1, 3])\n",
    "omega = np.radians(6.431585)\n",
    "thmax = 0.75\n",
    "phimax = 0.35\n",
    "chimax = 2.3\n",
    "eta = np.radians(20.232593)\n",
    "theta = np.radians(15.416837)\n",
    "# Bring the CRL to diffracted beam.\n",
    "crl.goto(theta, eta)\n",
    "\n",
    "crl.info\n"
   ]
  },
  {
   "cell_type": "code",
   "execution_count": 29,
   "metadata": {},
   "outputs": [],
   "source": [
    "beam = GaussianLineBeam(z_std=0.1, energy=energy)  # 100 nm = 0.1 microns\n",
    "\n",
    "# Beam divergence params\n",
    "desired_FWHM_N = 0.027 * 1e-3\n",
    "\n",
    "# Beam wavelength params\n",
    "sigma_e = (6 * 1e-5) / (2 * np.sqrt(2 * np.log(2)))\n",
    "epsilon = np.random.normal(0, sigma_e, size=(20000,))\n",
    "random_energy = energy + epsilon * energy\n",
    "sigma_lambda = laue.keV_to_angstrom(random_energy).std()\n",
    "mu_lambda = lambda_0\n",
    "\n",
    "FWHM_CRL_vertical = 0.556 * 1e-3\n",
    "FWHM_CRL_horizontal = FWHM_CRL_vertical\n",
    "\n",
    "# angular_tilt = 0.73 * 1e-3  # perhaps this is what happened in Poulsen 2017?\n",
    "# the idea is that a slight horizontal titlt of the CRL will cause the\n",
    "# NA in the horixontal plane to decrease which would explain the rolling curves\n",
    "# discrepancies.\n",
    "# dh = (crl.length * np.sin(angular_tilt)) * 1e-6\n",
    "# FWHM_CRL_horizontal = FWHM_CRL_vertical - 2 * dh\n",
    "\n",
    "# # TODO: truncation wont help\n",
    "resolution_function = PentaGauss(\n",
    "    crl.optical_axis,\n",
    "    1e-9 / (2 * np.sqrt(2 * np.log(2))),\n",
    "    # desired_FWHM_N / (2 * np.sqrt(2 * np.log(2))),\n",
    "    desired_FWHM_N / (2 * np.sqrt(2 * np.log(2))),\n",
    "    FWHM_CRL_horizontal / (2 * np.sqrt(2 * np.log(2))),\n",
    "    FWHM_CRL_vertical / (2 * np.sqrt(2 * np.log(2))),\n",
    "    mu_lambda,\n",
    "    sigma_lambda,\n",
    ")\n",
    "resolution_function.compile()\n",
    "\n",
    "# Detector size\n",
    "det_row_count = 272\n",
    "det_col_count = 272\n",
    "pixel_size = 0.75"
   ]
  },
  {
   "cell_type": "code",
   "execution_count": 30,
   "metadata": {},
   "outputs": [
    {
     "data": {
      "text/plain": [
       "array([[6.46936231e-10, 0.00000000e+00, 0.00000000e+00, 0.00000000e+00,\n",
       "        0.00000000e+00],\n",
       "       [0.00000000e+00, 1.80336880e-19, 0.00000000e+00, 0.00000000e+00,\n",
       "        0.00000000e+00],\n",
       "       [0.00000000e+00, 0.00000000e+00, 1.31465586e-10, 0.00000000e+00,\n",
       "        0.00000000e+00],\n",
       "       [0.00000000e+00, 0.00000000e+00, 0.00000000e+00, 5.57486218e-08,\n",
       "        0.00000000e+00],\n",
       "       [0.00000000e+00, 0.00000000e+00, 0.00000000e+00, 0.00000000e+00,\n",
       "        5.57486218e-08]])"
      ]
     },
     "execution_count": 30,
     "metadata": {},
     "output_type": "execute_result"
    }
   ],
   "source": [
    "resolution_function._x.cov"
   ]
  },
  {
   "cell_type": "code",
   "execution_count": 40,
   "metadata": {},
   "outputs": [
    {
     "data": {
      "text/plain": [
       "2.220446049250313e-16"
      ]
     },
     "execution_count": 40,
     "metadata": {},
     "output_type": "execute_result"
    }
   ],
   "source": [
    "np.finfo(float).eps"
   ]
  },
  {
   "cell_type": "code",
   "execution_count": 35,
   "metadata": {},
   "outputs": [
    {
     "name": "stdout",
     "output_type": "stream",
     "text": [
      "[0.6469 0.     0.     0.     0.    ]\n",
      "[0. 0. 0. 0. 0.]\n",
      "[0.     0.     0.1315 0.     0.    ]\n",
      "[ 0.      0.      0.     55.7486  0.    ]\n",
      "[ 0.      0.      0.      0.     55.7486]\n"
     ]
    }
   ],
   "source": [
    "for r in resolution_function._x.cov:\n",
    "    print((r*1e9).round(4))"
   ]
  }
 ],
 "metadata": {
  "kernelspec": {
   "display_name": "xrd",
   "language": "python",
   "name": "xrd"
  },
  "language_info": {
   "codemirror_mode": {
    "name": "ipython",
    "version": 3
   },
   "file_extension": ".py",
   "mimetype": "text/x-python",
   "name": "python",
   "nbconvert_exporter": "python",
   "pygments_lexer": "ipython3",
   "version": "3.10.13"
  }
 },
 "nbformat": 4,
 "nbformat_minor": 2
}
